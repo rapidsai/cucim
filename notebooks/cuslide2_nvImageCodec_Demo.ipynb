{
  "cells": [
    {
      "cell_type": "markdown",
      "metadata": {},
      "source": [
        "# cuslide2 Plugin with nvImageCodec GPU Acceleration\n",
        "\n",
        "This notebook demonstrates the new **cuslide2** plugin that provides GPU-accelerated JPEG/JPEG2000 decoding for digital pathology images using NVIDIA's nvImageCodec library.\n",
        "\n",
        "## Features\n",
        "- 🚀 **GPU-accelerated decoding** for JPEG and JPEG2000 compressed tiles\n",
        "- 📊 **Performance benchmarking** comparing CPU vs GPU decode times\n",
        "- 🔧 **Automatic plugin configuration** with priority handling\n",
        "- 📁 **Support for multiple formats**: Aperio SVS, Philips TIFF, Generic TIFF\n",
        "- ⚡ **Seamless fallback** to CPU decoders when GPU is unavailable\n"
      ]
    },
    {
      "cell_type": "markdown",
      "metadata": {},
      "source": [
        "## Prerequisites\n",
        "\n",
        "Ensure you have the following installed:\n",
        "- cuCIM with cuslide2 plugin built\n",
        "- nvImageCodec library (for GPU acceleration)\n",
        "- CUDA-capable GPU (optional, will fallback to CPU)\n"
      ]
    },
    {
      "cell_type": "code",
      "execution_count": null,
      "metadata": {},
      "outputs": [],
      "source": [
        "# Install prerequisites if needed\n",
        "# !pip install cucim numpy pillow matplotlib\n",
        "# !micromamba install libnvimgcodec-dev libnvimgcodec0 -c conda-forge  # For GPU acceleration\n"
      ]
    },
    {
      "cell_type": "markdown",
      "metadata": {},
      "source": [
        "## Setup cuslide2 Plugin Configuration\n"
      ]
    },
    {
      "cell_type": "code",
      "execution_count": 3,
      "metadata": {},
      "outputs": [
        {
          "name": "stdout",
          "output_type": "stream",
          "text": [
            "🔧 Setting up cuslide2 plugin...\n",
            "✅ Plugin root set: /home/cdinea/cucim/build-release/lib\n",
            "✅ Plugin configuration created: /tmp/.cucim_cuslide2_notebook.json\n"
          ]
        }
      ],
      "source": [
        "import os\n",
        "import sys\n",
        "import json\n",
        "import time\n",
        "import numpy as np\n",
        "import matplotlib.pyplot as plt\n",
        "from pathlib import Path\n",
        "\n",
        "def setup_cuslide2_plugin():\n",
        "    \"\"\"Configure cuCIM to use cuslide2 plugin with priority\"\"\"\n",
        "    \n",
        "    print(\"🔧 Setting up cuslide2 plugin...\")\n",
        "    \n",
        "    # Set plugin root to build directory\n",
        "    plugin_root = \"/home/cdinea/cucim/build-release/lib\"\n",
        "    \n",
        "    try:\n",
        "        from cucim.clara import _set_plugin_root\n",
        "        _set_plugin_root(plugin_root)\n",
        "        print(f\"✅ Plugin root set: {plugin_root}\")\n",
        "    except ImportError:\n",
        "        print(\"❌ cuCIM not available - please install cuCIM\")\n",
        "        return False\n",
        "    \n",
        "    # Create plugin configuration to prioritize cuslide2\n",
        "    config = {\n",
        "        \"plugin\": {\n",
        "            \"names\": [\n",
        "                \"cucim.kit.cuslide2@25.10.00.so\",  # cuslide2 with nvImageCodec (highest priority)\n",
        "                \"cucim.kit.cuslide@25.10.00.so\",   # Original cuslide (fallback)\n",
        "                \"cucim.kit.cumed@25.10.00.so\"      # Medical imaging\n",
        "            ]\n",
        "        }\n",
        "    }\n",
        "    \n",
        "    # Write config file\n",
        "    config_path = \"/tmp/.cucim_cuslide2_notebook.json\"\n",
        "    with open(config_path, \"w\") as f:\n",
        "        json.dump(config, f, indent=2)\n",
        "    \n",
        "    # Set environment variable\n",
        "    os.environ[\"CUCIM_CONFIG_PATH\"] = config_path\n",
        "    print(f\"✅ Plugin configuration created: {config_path}\")\n",
        "    \n",
        "    return True\n",
        "\n",
        "# Setup the plugin\n",
        "setup_success = setup_cuslide2_plugin()\n",
        "if not setup_success:\n",
        "    raise RuntimeError(\"Failed to setup cuslide2 plugin\")\n"
      ]
    }
  ],
  "metadata": {
    "kernelspec": {
      "display_name": "Python 3",
      "language": "python",
      "name": "python3"
    },
    "language_info": {
      "codemirror_mode": {
        "name": "ipython",
        "version": 3
      },
      "file_extension": ".py",
      "mimetype": "text/x-python",
      "name": "python",
      "nbconvert_exporter": "python",
      "pygments_lexer": "ipython3",
      "version": "3.10.12"
    }
  },
  "nbformat": 4,
  "nbformat_minor": 2
}
