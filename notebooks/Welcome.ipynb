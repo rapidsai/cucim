{
 "cells": [
  {
   "cell_type": "markdown",
   "id": "false-panel",
   "metadata": {},
   "source": [
    "# Welcome to cuCIM\n",
    "\n",
    "## `cucim.clara` package\n",
    "\n",
    "- [Basic Usage](Basic_Usage.ipynb)\n",
    "- [Using Cache](Using_Cache.ipynb)\n",
    "- [Accessing File with GDS](Accessing_File_with_GDS.ipynb)\n",
    "- [File-access Experiments on TIFF File](File-access_Experiments_on_TIFF.ipynb)\n",
    "- [Multi-thread and Multi-process Tests](Multi-thread_and_Multi-process_Tests.ipynb)\n",
    "- [Supporting Aperio SVS Format](Supporting_Aperio_SVS_Format.ipynb)\n",
    "\n",
    "## `cucim.skimage` package\n",
    "- [Gabor Filters](gabor_example.ipynb)\n",
    "- [Vesselness filters](vesselness_example.ipynb)\n",
    "- [Random walker segmentation](random_walker_example.ipynb)\n",
    "\n",
    "## Interoperability\n",
    "\n",
    "- [Working with DALI](Working_with_DALI.ipynb)\n",
    "- [Working with Albumentation](Working_with_Albumentation.ipynb)\n",
    "\n"
   ]
  }
 ],
 "metadata": {
  "kernelspec": {
   "display_name": "Python 3",
   "language": "python",
   "name": "python3"
  },
  "language_info": {
   "codemirror_mode": {
    "name": "ipython",
    "version": 3
   },
   "file_extension": ".py",
   "mimetype": "text/x-python",
   "name": "python",
   "nbconvert_exporter": "python",
   "pygments_lexer": "ipython3",
   "version": "3.8.10"
  }
 },
 "nbformat": 4,
 "nbformat_minor": 5
}
